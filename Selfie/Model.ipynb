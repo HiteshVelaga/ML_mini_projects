{
 "cells": [
  {
   "cell_type": "code",
   "execution_count": 14,
   "metadata": {},
   "outputs": [],
   "source": [
    "import cv2\n",
    "video = cv2.VideoCapture(0)\n",
    "faceCascade = cv2.CascadeClassifier(\"dataset/haarcascade_frontalface_default.xml\")\n",
    "smileCascade = cv2.CascadeClassifier(\"dataset/haarcascade_smile.xml\")"
   ]
  },
  {
   "cell_type": "code",
   "execution_count": 15,
   "metadata": {},
   "outputs": [
    {
     "name": "stdout",
     "output_type": "stream",
     "text": [
      "Image1 Saved\n"
     ]
    }
   ],
   "source": [
    "cnt=1\n",
    "while True:\n",
    "    success,img = video.read()\n",
    "    grayImg = cv2.cvtColor(img, cv2.COLOR_BGR2GRAY)\n",
    "    faces = faceCascade.detectMultiScale(grayImg,1.1,4)\n",
    "    keyPressed = cv2.waitKey(1)\n",
    "    while cnt<=1:\n",
    "        for x,y,w,h in faces:\n",
    "            smiles = smileCascade.detectMultiScale(grayImg,1.8,15)\n",
    "            for x,y,w,h in smiles:\n",
    "                path=r'C:\\Users\\Hitesh\\Desktop\\Selfie\\selfies\\selfie'+str(cnt)+'.jpg'\n",
    "                cv2.imwrite(path,img)\n",
    "                cnt=cnt+1  \n",
    "                break\n",
    "        print(\"Image\"+str(cnt-1)+\" Saved\")\n",
    "        break\n",
    "    cv2.imshow('live video',img)\n",
    "    if(keyPressed & 0xFF==ord('q')):\n",
    "        break\n",
    "video.release()                                  \n",
    "cv2.destroyAllWindows()"
   ]
  },
  {
   "cell_type": "code",
   "execution_count": null,
   "metadata": {},
   "outputs": [],
   "source": []
  }
 ],
 "metadata": {
  "kernelspec": {
   "display_name": "Python 3",
   "language": "python",
   "name": "python3"
  },
  "language_info": {
   "codemirror_mode": {
    "name": "ipython",
    "version": 3
   },
   "file_extension": ".py",
   "mimetype": "text/x-python",
   "name": "python",
   "nbconvert_exporter": "python",
   "pygments_lexer": "ipython3",
   "version": "3.7.6"
  }
 },
 "nbformat": 4,
 "nbformat_minor": 4
}
